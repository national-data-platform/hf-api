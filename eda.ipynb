{
 "cells": [
  {
   "cell_type": "code",
   "execution_count": 1,
   "metadata": {},
   "outputs": [
    {
     "name": "stderr",
     "output_type": "stream",
     "text": [
      "/var/folders/cg/q7wp005146v3__2yjy5yy59h0000gn/T/ipykernel_3148/1503839387.py:2: DeprecationWarning: \n",
      "Pyarrow will become a required dependency of pandas in the next major release of pandas (pandas 3.0),\n",
      "(to allow more performant data types, such as the Arrow string type, and better interoperability with other libraries)\n",
      "but was not found to be installed on your system.\n",
      "If this would cause problems for you,\n",
      "please provide us feedback at https://github.com/pandas-dev/pandas/issues/54466\n",
      "        \n",
      "  import pandas as pd\n"
     ]
    }
   ],
   "source": [
    "from huggingface_hub import list_models\n",
    "import pandas as pd\n",
    "\n",
    "models = list_models()"
   ]
  },
  {
   "cell_type": "code",
   "execution_count": null,
   "metadata": {},
   "outputs": [],
   "source": [
    "print(models)"
   ]
  },
  {
   "cell_type": "code",
   "execution_count": null,
   "metadata": {},
   "outputs": [],
   "source": [
    "keys = ['id','author','created_at','last_modified','private']\n",
    "keys = ['id','created_at','private','downloads','tags','library_name']\n",
    "model_data = []\n",
    "\n",
    "for model in models:\n",
    "    iModel = dict.fromkeys(keys)\n",
    "    iModel['id'] = model.id\n",
    "    # iModel['author'] = model.author\n",
    "    iModel['created_at'] = model.created_at\n",
    "    iModel['downloads'] = model.downloads\n",
    "    iModel['private'] = model.private\n",
    "    iModel['tags'] = model.tags\n",
    "    iModel['library_name'] = model.library_name\n",
    "    model_data.append(iModel)\n",
    "    # print(model)\n",
    "    # print(model.id)\n",
    "    # print(model.author)\n",
    "    # print(model.created_at)\n",
    "    # print(model.last_modified)\n",
    "    # print(model.private)\n",
    "    # print('')"
   ]
  },
  {
   "cell_type": "code",
   "execution_count": null,
   "metadata": {},
   "outputs": [],
   "source": [
    "df = pd.DataFrame(model_data)"
   ]
  },
  {
   "cell_type": "code",
   "execution_count": null,
   "metadata": {},
   "outputs": [],
   "source": [
    "df"
   ]
  },
  {
   "cell_type": "code",
   "execution_count": null,
   "metadata": {},
   "outputs": [],
   "source": [
    "df[df.id == 'mistralai/Mistral-7B-Instruct-v0.2']"
   ]
  },
  {
   "cell_type": "code",
   "execution_count": null,
   "metadata": {},
   "outputs": [],
   "source": [
    "df[df.downloads == df.downloads.max()]"
   ]
  },
  {
   "cell_type": "code",
   "execution_count": null,
   "metadata": {},
   "outputs": [],
   "source": [
    "df.config.unique()"
   ]
  },
  {
   "cell_type": "code",
   "execution_count": 2,
   "metadata": {},
   "outputs": [],
   "source": [
    "import requests\n",
    "\n",
    "model_path = 'http://127.0.0.1:8000/v1/models'\n",
    "model_path = 'http://hf-api.nrp-nautilus.io/v1/models'\n",
    "\n",
    "r = requests.get(model_path)\n",
    "\n",
    "# df = pd.DataFrame(r.json())"
   ]
  },
  {
   "cell_type": "code",
   "execution_count": 3,
   "metadata": {},
   "outputs": [
    {
     "data": {
      "text/plain": [
       "200"
      ]
     },
     "execution_count": 3,
     "metadata": {},
     "output_type": "execute_result"
    }
   ],
   "source": [
    "r.status_code"
   ]
  },
  {
   "cell_type": "code",
   "execution_count": null,
   "metadata": {},
   "outputs": [],
   "source": [
    "r.text"
   ]
  },
  {
   "cell_type": "code",
   "execution_count": null,
   "metadata": {},
   "outputs": [],
   "source": [
    "r.json()"
   ]
  },
  {
   "cell_type": "code",
   "execution_count": 4,
   "metadata": {},
   "outputs": [],
   "source": [
    "df = pd.DataFrame(r.json())"
   ]
  },
  {
   "cell_type": "code",
   "execution_count": 5,
   "metadata": {},
   "outputs": [
    {
     "data": {
      "text/html": [
       "<div>\n",
       "<style scoped>\n",
       "    .dataframe tbody tr th:only-of-type {\n",
       "        vertical-align: middle;\n",
       "    }\n",
       "\n",
       "    .dataframe tbody tr th {\n",
       "        vertical-align: top;\n",
       "    }\n",
       "\n",
       "    .dataframe thead th {\n",
       "        text-align: right;\n",
       "    }\n",
       "</style>\n",
       "<table border=\"1\" class=\"dataframe\">\n",
       "  <thead>\n",
       "    <tr style=\"text-align: right;\">\n",
       "      <th></th>\n",
       "      <th>downloads</th>\n",
       "      <th>modelId</th>\n",
       "      <th>id</th>\n",
       "      <th>private</th>\n",
       "      <th>tags</th>\n",
       "      <th>created_at</th>\n",
       "      <th>library_name</th>\n",
       "    </tr>\n",
       "  </thead>\n",
       "  <tbody>\n",
       "    <tr>\n",
       "      <th>0</th>\n",
       "      <td>15345</td>\n",
       "      <td>albert/albert-base-v1</td>\n",
       "      <td>1</td>\n",
       "      <td>False</td>\n",
       "      <td>{transformers,pytorch,tf,safetensors,albert,fi...</td>\n",
       "      <td>2022-03-02T23:29:04</td>\n",
       "      <td>transformers</td>\n",
       "    </tr>\n",
       "    <tr>\n",
       "      <th>1</th>\n",
       "      <td>2650917</td>\n",
       "      <td>albert/albert-base-v2</td>\n",
       "      <td>2</td>\n",
       "      <td>False</td>\n",
       "      <td>{transformers,pytorch,tf,jax,rust,safetensors,...</td>\n",
       "      <td>2022-03-02T23:29:04</td>\n",
       "      <td>transformers</td>\n",
       "    </tr>\n",
       "    <tr>\n",
       "      <th>2</th>\n",
       "      <td>1641</td>\n",
       "      <td>albert/albert-large-v1</td>\n",
       "      <td>3</td>\n",
       "      <td>False</td>\n",
       "      <td>{transformers,pytorch,tf,albert,fill-mask,en,d...</td>\n",
       "      <td>2022-03-02T23:29:04</td>\n",
       "      <td>transformers</td>\n",
       "    </tr>\n",
       "    <tr>\n",
       "      <th>3</th>\n",
       "      <td>74491</td>\n",
       "      <td>albert/albert-large-v2</td>\n",
       "      <td>4</td>\n",
       "      <td>False</td>\n",
       "      <td>{transformers,pytorch,tf,safetensors,albert,fi...</td>\n",
       "      <td>2022-03-02T23:29:04</td>\n",
       "      <td>transformers</td>\n",
       "    </tr>\n",
       "    <tr>\n",
       "      <th>4</th>\n",
       "      <td>1249</td>\n",
       "      <td>albert/albert-xlarge-v1</td>\n",
       "      <td>5</td>\n",
       "      <td>False</td>\n",
       "      <td>{transformers,pytorch,tf,safetensors,albert,fi...</td>\n",
       "      <td>2022-03-02T23:29:04</td>\n",
       "      <td>transformers</td>\n",
       "    </tr>\n",
       "    <tr>\n",
       "      <th>...</th>\n",
       "      <td>...</td>\n",
       "      <td>...</td>\n",
       "      <td>...</td>\n",
       "      <td>...</td>\n",
       "      <td>...</td>\n",
       "      <td>...</td>\n",
       "      <td>...</td>\n",
       "    </tr>\n",
       "    <tr>\n",
       "      <th>640264</th>\n",
       "      <td>0</td>\n",
       "      <td>Ebrahim1363/Ebrahim</td>\n",
       "      <td>640265</td>\n",
       "      <td>False</td>\n",
       "      <td>{license:mit,region:us}</td>\n",
       "      <td>2024-05-06T15:34:09</td>\n",
       "      <td>None</td>\n",
       "    </tr>\n",
       "    <tr>\n",
       "      <th>640265</th>\n",
       "      <td>0</td>\n",
       "      <td>ucox/nlp_assignment</td>\n",
       "      <td>640266</td>\n",
       "      <td>False</td>\n",
       "      <td>{region:us}</td>\n",
       "      <td>2024-05-06T15:34:10</td>\n",
       "      <td>None</td>\n",
       "    </tr>\n",
       "    <tr>\n",
       "      <th>640266</th>\n",
       "      <td>0</td>\n",
       "      <td>Dung125/ASR_IoT</td>\n",
       "      <td>640267</td>\n",
       "      <td>False</td>\n",
       "      <td>{region:us}</td>\n",
       "      <td>2024-05-06T15:35:22</td>\n",
       "      <td>None</td>\n",
       "    </tr>\n",
       "    <tr>\n",
       "      <th>640267</th>\n",
       "      <td>0</td>\n",
       "      <td>ccfai/squirmy-the-chatbot-v6</td>\n",
       "      <td>640268</td>\n",
       "      <td>False</td>\n",
       "      <td>{region:us}</td>\n",
       "      <td>2024-05-06T15:36:01</td>\n",
       "      <td>None</td>\n",
       "    </tr>\n",
       "    <tr>\n",
       "      <th>640268</th>\n",
       "      <td>0</td>\n",
       "      <td>Omar-youssef/QA_FineTuned_Arabert</td>\n",
       "      <td>640269</td>\n",
       "      <td>False</td>\n",
       "      <td>{region:us}</td>\n",
       "      <td>2024-05-06T15:36:07</td>\n",
       "      <td>None</td>\n",
       "    </tr>\n",
       "  </tbody>\n",
       "</table>\n",
       "<p>640269 rows × 7 columns</p>\n",
       "</div>"
      ],
      "text/plain": [
       "        downloads                            modelId      id  private  \\\n",
       "0           15345              albert/albert-base-v1       1    False   \n",
       "1         2650917              albert/albert-base-v2       2    False   \n",
       "2            1641             albert/albert-large-v1       3    False   \n",
       "3           74491             albert/albert-large-v2       4    False   \n",
       "4            1249            albert/albert-xlarge-v1       5    False   \n",
       "...           ...                                ...     ...      ...   \n",
       "640264          0                Ebrahim1363/Ebrahim  640265    False   \n",
       "640265          0                ucox/nlp_assignment  640266    False   \n",
       "640266          0                    Dung125/ASR_IoT  640267    False   \n",
       "640267          0       ccfai/squirmy-the-chatbot-v6  640268    False   \n",
       "640268          0  Omar-youssef/QA_FineTuned_Arabert  640269    False   \n",
       "\n",
       "                                                     tags  \\\n",
       "0       {transformers,pytorch,tf,safetensors,albert,fi...   \n",
       "1       {transformers,pytorch,tf,jax,rust,safetensors,...   \n",
       "2       {transformers,pytorch,tf,albert,fill-mask,en,d...   \n",
       "3       {transformers,pytorch,tf,safetensors,albert,fi...   \n",
       "4       {transformers,pytorch,tf,safetensors,albert,fi...   \n",
       "...                                                   ...   \n",
       "640264                            {license:mit,region:us}   \n",
       "640265                                        {region:us}   \n",
       "640266                                        {region:us}   \n",
       "640267                                        {region:us}   \n",
       "640268                                        {region:us}   \n",
       "\n",
       "                 created_at  library_name  \n",
       "0       2022-03-02T23:29:04  transformers  \n",
       "1       2022-03-02T23:29:04  transformers  \n",
       "2       2022-03-02T23:29:04  transformers  \n",
       "3       2022-03-02T23:29:04  transformers  \n",
       "4       2022-03-02T23:29:04  transformers  \n",
       "...                     ...           ...  \n",
       "640264  2024-05-06T15:34:09          None  \n",
       "640265  2024-05-06T15:34:10          None  \n",
       "640266  2024-05-06T15:35:22          None  \n",
       "640267  2024-05-06T15:36:01          None  \n",
       "640268  2024-05-06T15:36:07          None  \n",
       "\n",
       "[640269 rows x 7 columns]"
      ]
     },
     "execution_count": 5,
     "metadata": {},
     "output_type": "execute_result"
    }
   ],
   "source": [
    "df"
   ]
  },
  {
   "cell_type": "code",
   "execution_count": null,
   "metadata": {},
   "outputs": [],
   "source": []
  }
 ],
 "metadata": {
  "kernelspec": {
   "display_name": "Python 3",
   "language": "python",
   "name": "python3"
  },
  "language_info": {
   "codemirror_mode": {
    "name": "ipython",
    "version": 3
   },
   "file_extension": ".py",
   "mimetype": "text/x-python",
   "name": "python",
   "nbconvert_exporter": "python",
   "pygments_lexer": "ipython3",
   "version": "3.11.7"
  }
 },
 "nbformat": 4,
 "nbformat_minor": 2
}
